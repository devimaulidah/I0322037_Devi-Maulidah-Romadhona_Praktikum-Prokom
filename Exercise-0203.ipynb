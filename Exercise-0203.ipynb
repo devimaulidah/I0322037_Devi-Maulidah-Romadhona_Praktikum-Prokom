{
 "cells": [
  {
   "cell_type": "code",
   "execution_count": 2,
   "metadata": {},
   "outputs": [
    {
     "name": "stdout",
     "output_type": "stream",
     "text": [
      "Devi Maulidah Romadhona\n",
      "I032207\n",
      "B\n"
     ]
    }
   ],
   "source": [
    "print(input(\"Nama: \"))\n",
    "print(input(\"NIM: \"))\n",
    "print(input(\"Kelas: \"))"
   ]
  },
  {
   "attachments": {},
   "cell_type": "markdown",
   "metadata": {},
   "source": [
    "## 1."
   ]
  },
  {
   "attachments": {},
   "cell_type": "markdown",
   "metadata": {},
   "source": [
    "* **A** Hitunglah luas Prisma Segitiga dengan ketentuan sebagai berikut:\n",
    "    * Alas dan tutup prisma merupakan segitiga\n",
    "    * Terdapat 3 persegi panjang yang menyinggung alas dan tutup prisma\n",
    "    * Sisi persegi panjang yang menyinggung segitiga adalah sisi lebar\n",
    "```python\n",
    "    dictionary_figure = {\"Persegi\":{\"Sisi\":22},\n",
    "                        \"Persegi Panjang\":{\"Panjang\":10,\"Lebar\":5},\n",
    "                        \"Segitiga Sama Sisi\":{\"Sisi\":6,\"Tinggi\":3**(1/2) * 3},\n",
    "                        \"Lingkaran\":{\"Diameter\":7}}\n",
    "```\n",
    "* **B** Hitunglah luas Tabung dengan ketentuan sebagai berikut:\n",
    "    * Alas dan tutup tabung merupakan lingkaran\n",
    "    * Terdapat 1 persegi yang menyinggung alas dan tutup tabung\n",
    "    * Persegi yang ada mengelilingi lingkaran hingga sisi dari persegi saling bertemu\n",
    "\n",
    "> **note:** *Pada soal ini kalian hanya boleh menggunakan key-value pair dan index pada list. Tidak diperbolehkan menulis secara langsung dimensi dari figure*"
   ]
  },
  {
   "cell_type": "code",
   "execution_count": 15,
   "metadata": {},
   "outputs": [
    {
     "name": "stdout",
     "output_type": "stream",
     "text": [
      "Luas Prisma Segitiga adalah : 181.1769145362398\n",
      "Luas Tabung adalah : 560.774288665778\n"
     ]
    }
   ],
   "source": [
    "#Menghitung Luas Prisma Segitiga\n",
    "dictionary_figure = {\"Persegi\":{\"Sisi\":22},\n",
    "                        \"Persegi Panjang\":{\"Panjang\":10,\"Lebar\":5},\n",
    "                        \"Segitiga Sama Sisi\":{\"Sisi\":6,\"Tinggi\":3**(1/2)*3},\n",
    "                        \"Lingkaran\":{\"Diameter\":7}}\n",
    "\n",
    "Luas_Segitiga = dictionary_figure[\"Segitiga Sama Sisi\"][\"Sisi\"]*dictionary_figure[\"Segitiga Sama Sisi\"][\"Tinggi\"]/2\n",
    "Luas_Persegi_Panjang = dictionary_figure[\"Persegi Panjang\"][\"Panjang\"]*dictionary_figure[\"Persegi Panjang\"][\"Lebar\"]\n",
    "Luas_Prisma_Segitiga = 2*Luas_Segitiga + 3*Luas_Persegi_Panjang\n",
    "print(\"Luas Prisma Segitiga adalah :\", Luas_Prisma_Segitiga)\n",
    "\n",
    "#Menghitung Luas Tabung\n",
    "pi = 3.141592653589793\n",
    "\n",
    "Luas_Lingkaran = pi*dictionary_figure[\"Lingkaran\"][\"Diameter\"]/2 *dictionary_figure[\"Lingkaran\"][\"Diameter\"]/2\n",
    "Luas_Persegi = dictionary_figure[\"Persegi\"][\"Sisi\"]*pi*dictionary_figure[\"Lingkaran\"][\"Diameter\"]\n",
    "Luas_Tabung = Luas_Lingkaran*2 + Luas_Persegi\n",
    "print(\"Luas Tabung adalah :\", Luas_Tabung)"
   ]
  },
  {
   "attachments": {},
   "cell_type": "markdown",
   "metadata": {},
   "source": [
    "## 2."
   ]
  },
  {
   "attachments": {},
   "cell_type": "markdown",
   "metadata": {},
   "source": [
    "Diberikan List sebagai berikut\n",
    "```Python\n",
    "    data = [8, 8, 4, 6, 8, 9, 6, 5, 4, 7]\n",
    "```\n",
    "* Tambahkan 3 angka baru ke dalam list\n",
    "* Tampilkan output list dengan berurutan dari yang terkecil hingga yang terbesar\n",
    "* Tentukan mean, median, dan modus pada list baru"
   ]
  },
  {
   "cell_type": "code",
   "execution_count": 16,
   "metadata": {},
   "outputs": [
    {
     "name": "stdout",
     "output_type": "stream",
     "text": [
      "[8, 8, 4, 6, 8, 9, 6, 5, 4, 7, 2, 3, 9]\n",
      "[2, 3, 4, 4, 5, 6, 6, 7, 8, 8, 8, 9, 9]\n",
      "Mean = 6.076923076923077\n",
      "Median = 7\n",
      "Modus = 8\n"
     ]
    }
   ],
   "source": [
    "#Menambahkan 3 Angka Baru\n",
    "data = [8, 8, 4, 6, 8, 9, 6, 5, 4, 7]\n",
    "angka_baru = [2,3,9]\n",
    "data.extend(angka_baru)\n",
    "print(data)\n",
    "\n",
    "#Menyusun Angka dari Urutan Terkecil ke Terbesar\n",
    "data.sort()\n",
    "print(data)\n",
    "\n",
    "#Mean, Median, Modus\n",
    "n = len(data)\n",
    "mean = sum(data) / n\n",
    "median = data[n//2 + 1]\n",
    "modus = max(set(data), key=data.count)\n",
    "\n",
    "print(\"Mean =\", str(mean))\n",
    "print(\"Median =\", str(median))\n",
    "print(\"Modus =\", str(modus))"
   ]
  },
  {
   "attachments": {},
   "cell_type": "markdown",
   "metadata": {},
   "source": [
    "## 3. "
   ]
  },
  {
   "attachments": {},
   "cell_type": "markdown",
   "metadata": {},
   "source": [
    "Dalam pembuatan SIM ada beberapa syarat yang harus dipenuhi bagi para pembuat SIM yaitu:\n",
    "1. Pembuat SIM harus memiliki usia setidaknya 17 tahun\n",
    "2. Pembuat SIM lulus dalam tes kesehatan\n",
    "3. Pembuat SIM lulus dalam uji psikotes\n",
    "4. Pembuat SIM telah mengikuti ujian tertulis dengan nilai setidaknya 70\n",
    "5. Pembuat SIM lulus dalam simulasi berkendara\n",
    "6. Apabila pembuat SIM memiliki surat rekomendasi dari kursus berkendara maka pembuat SIM akan mendapatkan SIM (mengabaikan poin 1-5 apabila poin ke-6 terpenuhi)\n",
    "\n",
    "Buatlah input yang membuat setiap poin menjadi variabel. Output yang dihasilkan merupakan \"True\" apabila pembuat berhak mendapatkan SIM dan \"False\" apabila pembuat tidak berhak mendapatkan SIM.\n",
    "\n",
    "> **note:** *Tidak perlu menggunakan loops dalam membuat programnya*"
   ]
  },
  {
   "cell_type": "code",
   "execution_count": 13,
   "metadata": {},
   "outputs": [
    {
     "name": "stdout",
     "output_type": "stream",
     "text": [
      "True\n"
     ]
    }
   ],
   "source": [
    "Usia = input(\"Masukkan Usia Anda: \")\n",
    "Tes_Kesehatan = input(\"Lulus Tes Kesehatan (y/n): \")\n",
    "Psikotes = input(\"Lulus Uji Psikotes (y/n): \")\n",
    "Nilai_Ujian = input(\"Nilai Ujian Tertulis: \")\n",
    "Lulus_Simulasi = input(\"Lulus Simulasi Berkendara (y/n): \")\n",
    "Surat_Rekomendasi = input(\"Memiliki Surat Rekomendasi dari Kursus Berkendara (y/n): \")\n",
    "\n",
    "print((int(Usia) >=17 and Tes_Kesehatan == 'y' and Psikotes == 'y' and int(Nilai_Ujian) >= 70 and Lulus_Simulasi == 'y') or Surat_Rekomendasi == 'y')"
   ]
  }
 ],
 "metadata": {
  "kernelspec": {
   "display_name": "Python 3",
   "language": "python",
   "name": "python3"
  },
  "language_info": {
   "codemirror_mode": {
    "name": "ipython",
    "version": 3
   },
   "file_extension": ".py",
   "mimetype": "text/x-python",
   "name": "python",
   "nbconvert_exporter": "python",
   "pygments_lexer": "ipython3",
   "version": "3.9.6"
  },
  "orig_nbformat": 4,
  "vscode": {
   "interpreter": {
    "hash": "5addf786bcd861d1ce5006f23111f8cbb206731e5b61b0a5632ba9e0252558a8"
   }
  }
 },
 "nbformat": 4,
 "nbformat_minor": 2
}
