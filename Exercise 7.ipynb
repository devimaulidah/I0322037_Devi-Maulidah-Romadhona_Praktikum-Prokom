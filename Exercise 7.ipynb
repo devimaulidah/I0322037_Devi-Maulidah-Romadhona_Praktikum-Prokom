{
 "cells": [
  {
   "cell_type": "code",
   "execution_count": 14,
   "metadata": {},
   "outputs": [
    {
     "data": {
      "text/plain": [
       "[[2, 2], [1, 2]]"
      ]
     },
     "execution_count": 14,
     "metadata": {},
     "output_type": "execute_result"
    }
   ],
   "source": [
    "#Buatlah sebuah fungsi untuk membuat matrix berdasarkan input dari user\n",
    "\n",
    "def create_matrix(baris,kolom):\n",
    "    matrix = []\n",
    "    for i in range(baris):\n",
    "        baris = []\n",
    "        for j in range(kolom):\n",
    "            element = int(input(f\"Masukkan elemen matriks [{i}][{j}]:\"))\n",
    "            baris.append(element)\n",
    "        matrix.append(baris)\n",
    "\n",
    "\n",
    "    return matrix\n",
    "\n",
    "\n",
    "baris = int(input('Masukkan Jumlah Baris:\\t'))\n",
    "kolom = int(input('Masukkan Jumlah Kolom:\\t'))\n",
    "\n",
    "create_matrix(baris,kolom)"
   ]
  },
  {
   "cell_type": "code",
   "execution_count": 50,
   "metadata": {},
   "outputs": [
    {
     "data": {
      "text/plain": [
       "[[1, 2], [3, 4]]"
      ]
     },
     "execution_count": 50,
     "metadata": {},
     "output_type": "execute_result"
    }
   ],
   "source": [
    "#Buatlah fungsi untuk melakukan pengurangan antar dua matrix berdasarkan input user\n",
    "\n",
    "def kurang_matrix(matrixA, matrixB):\n",
    "    kurang = []\n",
    "    baris = len(matrixA)\n",
    "    kolom = len(matrixB[0])\n",
    "    \n",
    "\n",
    "    for i in range(baris):\n",
    "        baris = []\n",
    "        for j in range(kolom):\n",
    "            pengurangan = matrixA[i][j] - matrixB[i][j]\n",
    "            baris.append(pengurangan)\n",
    "        kurang.append(baris)\n",
    "\n",
    " \n",
    "    return kurang\n",
    "\n",
    "\n",
    "matrixA = [[3,4], [5,6]]\n",
    "matrixB = [[2,2], [2,2]]\n",
    "\n",
    "kurang_matrix(matrixA, matrixB)"
   ]
  },
  {
   "cell_type": "code",
   "execution_count": 23,
   "metadata": {},
   "outputs": [
    {
     "data": {
      "text/plain": [
       "[[3.0, 1.0], [3.0, 2.0]]"
      ]
     },
     "execution_count": 23,
     "metadata": {},
     "output_type": "execute_result"
    }
   ],
   "source": [
    "#Buatlah Fungsi untuk melakukan pembagian matrix dengan skalar berdasarkan input user\n",
    "\n",
    "def bagi_matrix(matrix1, skalar):\n",
    "    hasil = []\n",
    "    baris = len(matrix1)\n",
    "    kolom = len(matrix1[0])\n",
    "\n",
    "    for i in range(baris):\n",
    "        baris = []\n",
    "        for j in range(kolom):\n",
    "            bagi = matrix1[i][j] / skalar\n",
    "            baris.append(bagi)\n",
    "        hasil.append(baris)\n",
    "\n",
    "    #Tulis kode kamu disini\n",
    "\n",
    "\n",
    "    return hasil\n",
    "\n",
    "\n",
    "\n",
    "matrix1 = [[6,2],[6,4]]\n",
    "skalar = int(input('Matrix dibagi berapa?\\t'))\n",
    "\n",
    "\n",
    "bagi_matrix(matrix1, skalar)"
   ]
  }
 ],
 "metadata": {
  "kernelspec": {
   "display_name": "Python 3",
   "language": "python",
   "name": "python3"
  },
  "language_info": {
   "codemirror_mode": {
    "name": "ipython",
    "version": 3
   },
   "file_extension": ".py",
   "mimetype": "text/x-python",
   "name": "python",
   "nbconvert_exporter": "python",
   "pygments_lexer": "ipython3",
   "version": "3.9.6"
  },
  "orig_nbformat": 4
 },
 "nbformat": 4,
 "nbformat_minor": 2
}
